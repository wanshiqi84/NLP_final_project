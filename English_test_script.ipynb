{
 "cells": [
  {
   "cell_type": "code",
   "execution_count": 34,
   "id": "ef5ba5ba",
   "metadata": {},
   "outputs": [
    {
     "name": "stdout",
     "output_type": "stream",
     "text": [
      "Dear Sir or Madam ,\n",
      "c c c c c\n"
     ]
    }
   ],
   "source": [
    "import numpy as np\n",
    "import matplotlib.pyplot as plt\n",
    "from sklearn.model_selection import train_test_split\n",
    "from tensorflow.keras.preprocessing.text import Tokenizer\n",
    "from tensorflow.keras.preprocessing.sequence import pad_sequences\n",
    "from tensorflow.keras.models import Sequential\n",
    "from tensorflow.keras.layers import Embedding, LSTM, Dense, Bidirectional, TimeDistributed\n",
    "\n",
    "# Read data from the file\n",
    "sentences = []\n",
    "labels = []\n",
    "\n",
    "with open('english/en_fce_train.tsv', 'r', encoding='utf-8') as f:\n",
    "    words = []\n",
    "    curr_labels = []\n",
    "    for line in f:\n",
    "        if line.isspace():\n",
    "            sentences.append(' '.join(words))\n",
    "            labels.append(' '.join(curr_labels))\n",
    "            words = []\n",
    "            curr_labels = []\n",
    "        else:\n",
    "            word, label = line.strip().split('\\t')\n",
    "            words.append(word)\n",
    "            curr_labels.append(label)\n",
    "\n",
    "# Print first sentence and its corresponding label sequence\n",
    "print(sentences[0])\n",
    "print(labels[0])"
   ]
  },
  {
   "cell_type": "code",
   "execution_count": 25,
   "id": "daf5ecb8",
   "metadata": {},
   "outputs": [
    {
     "name": "stdout",
     "output_type": "stream",
     "text": [
      "[55, 193, 58, 281]\n",
      "[ 55 193  58 281   0   0   0   0   0   0   0   0   0   0   0   0   0   0\n",
      "   0   0   0   0   0   0   0   0   0   0   0   0   0   0   0   0   0   0\n",
      "   0   0   0   0   0   0   0   0   0   0   0   0   0   0   0   0   0   0\n",
      "   0   0   0   0   0   0   0   0   0   0   0   0   0   0   0   0   0   0\n",
      "   0   0   0   0   0   0   0   0   0   0   0   0   0   0   0   0   0   0\n",
      "   0   0   0   0   0   0   0   0   0   0]\n"
     ]
    },
    {
     "data": {
      "image/png": "[encoded data removed]",
      "text/plain": [
       "<Figure size 432x288 with 1 Axes>"
      ]
     },
     "metadata": {
      "needs_background": "light"
     },
     "output_type": "display_data"
    }
   ],
   "source": [
    "# Tokenize the sentences\n",
    "tokenizer = Tokenizer(oov_token='<OOV>')\n",
    "tokenizer.fit_on_texts(sentences)\n",
    "\n",
    "# Create word-to-index dictionary\n",
    "word_index = tokenizer.word_index\n",
    "\n",
    "# Convert sentences to sequences of indices\n",
    "sequences = tokenizer.texts_to_sequences(sentences)\n",
    "\n",
    "# Print the first sequence\n",
    "print(sequences[0])\n",
    "\n",
    "# Pad sequences to ensure fixed length\n",
    "max_length = 100\n",
    "padded_sequences = pad_sequences(sequences, maxlen=max_length, padding='post', truncating='post')\n",
    "\n",
    "# Print the first padded sequence\n",
    "print(padded_sequences[0])\n",
    "\n",
    "# Plot the sentence length distribution\n",
    "plt.hist([len(s.split()) for s in sentences], bins=50)\n",
    "plt.xlabel('Sentence Length')\n",
    "plt.ylabel('Frequency')\n",
    "plt.title('Sentence Length Distribution')\n",
    "plt.show()"
   ]
  },
  {
   "cell_type": "code",
   "execution_count": 26,
   "id": "264c37f4",
   "metadata": {},
   "outputs": [],
   "source": [
    "# Tokenize the labels\n",
    "label_tokenizer = Tokenizer()\n",
    "label_tokenizer.fit_on_texts(labels)\n",
    "\n",
    "# Create label-to-index dictionary\n",
    "label_index = label_tokenizer.word_index\n",
    "\n",
    "# Convert labels to sequences of indices\n",
    "label_sequences = label_tokenizer.texts_to_sequences(labels)\n",
    "\n",
    "# Pad label sequences to ensure fixed length\n",
    "padded_label_sequences = pad_sequences(label_sequences, maxlen=max_length, padding='post', truncating='post')\n"
   ]
  },
  {
   "cell_type": "code",
   "execution_count": 27,
   "id": "679da24a",
   "metadata": {
    "scrolled": true
   },
   "outputs": [
    {
     "name": "stdout",
     "output_type": "stream",
     "text": [
      "Epoch 1/5\n",
      "887/887 [==============================] - 13s 12ms/step - loss: 0.0778 - accuracy: 0.9754\n",
      "Epoch 2/5\n",
      "887/887 [==============================] - 10s 11ms/step - loss: 0.0592 - accuracy: 0.9799\n",
      "Epoch 3/5\n",
      "887/887 [==============================] - 9s 11ms/step - loss: 0.0558 - accuracy: 0.9810\n",
      "Epoch 4/5\n",
      "887/887 [==============================] - 10s 11ms/step - loss: 0.0531 - accuracy: 0.9819\n",
      "Epoch 5/5\n",
      "887/887 [==============================] - 10s 11ms/step - loss: 0.0510 - accuracy: 0.9825\n",
      "206/206 [==============================] - 1s 4ms/step\n",
      "Number of test sentences: 6573\n",
      "Number of predicted labels: 6573\n"
     ]
    }
   ],
   "source": [
    "model = Sequential([\n",
    "    Embedding(len(word_index) + 1, 128, input_length=max_length),\n",
    "    Bidirectional(LSTM(64, return_sequences=True)),\n",
    "    TimeDistributed(Dense(len(label_index) + 1, activation='softmax'))\n",
    "])\n",
    "\n",
    "# Compile the model\n",
    "model.compile(loss='sparse_categorical_crossentropy', optimizer='adam', metrics=['accuracy'])\n",
    "\n",
    "y_train = np.expand_dims(padded_label_sequences, -1)\n",
    "history = model.fit(padded_sequences, y_train, epochs=5)\n",
    "\n",
    "with open('english/en_fce_dev.tsv', 'r', encoding='utf-8') as f:\n",
    "    words = []\n",
    "    curr_labels = []\n",
    "    for line in f:\n",
    "        if line.strip() == '':\n",
    "            test_sentences.append(' '.join(words))\n",
    "            test_labels.append(' '.join(curr_labels))\n",
    "            words = []\n",
    "            curr_labels = []\n",
    "        else:\n",
    "            word, label = line.strip().split('\\t')\n",
    "            words.append(word)\n",
    "            curr_labels.append(label)\n",
    "\n",
    "test_sequences = tokenizer.texts_to_sequences(test_sentences)\n",
    "padded_test_sequences = pad_sequences(test_sequences, maxlen=max_length, padding='post', truncating='post')\n",
    "\n",
    "# Generate predictions\n",
    "predictions = model.predict(padded_test_sequences)\n",
    "predicted_labels = np.argmax(predictions, axis=-1)\n",
    "predicted_labels_text = label_tokenizer.sequences_to_texts(predicted_labels)\n",
    "\n",
    "print(\"Number of test sentences:\", len(test_sentences))\n",
    "print(\"Number of predicted labels:\", len(predicted_labels_text))\n",
    "assert len(test_sentences) == len(predicted_labels_text)"
   ]
  },
  {
   "cell_type": "code",
   "execution_count": 30,
   "id": "58c00f66",
   "metadata": {},
   "outputs": [],
   "source": [
    "with open('english/predictions.tsv', 'w', encoding='utf-8') as f:\n",
    "    for sent, labels in zip(test_sentences, predicted_labels_text):\n",
    "        words = sent.split()\n",
    "        pred_labels = labels.split()\n",
    "        for word, label in zip(words, pred_labels):\n",
    "            if label != '0':  # Skip the default padding label\n",
    "                f.write(f\"{word}\\t{label}\\n\")\n",
    "        f.write(\"\\n\")\n"
   ]
  },
  {
   "cell_type": "code",
   "execution_count": 32,
   "id": "c6a54449",
   "metadata": {},
   "outputs": [
    {
     "name": "stdout",
     "output_type": "stream",
     "text": [
      "Number of test sentences: 8764\n",
      "Number of predicted labels: 6573\n"
     ]
    }
   ],
   "source": []
  },
  {
   "cell_type": "code",
   "execution_count": 23,
   "id": "52699924",
   "metadata": {},
   "outputs": [
    {
     "name": "stdout",
     "output_type": "stream",
     "text": [
      "Number of test sentences: 4382\n",
      "Number of predicted labels: 2191\n"
     ]
    }
   ],
   "source": []
  },
  {
   "cell_type": "code",
   "execution_count": 22,
   "id": "d93ec539",
   "metadata": {},
   "outputs": [
    {
     "ename": "AssertionError",
     "evalue": "",
     "output_type": "error",
     "traceback": [
      "\u001b[1;31m---------------------------------------------------------------------------\u001b[0m",
      "\u001b[1;31mAssertionError\u001b[0m                            Traceback (most recent call last)",
      "Input \u001b[1;32mIn [22]\u001b[0m, in \u001b[0;36m<cell line: 1>\u001b[1;34m()\u001b[0m\n\u001b[1;32m----> 1\u001b[0m \u001b[38;5;28;01massert\u001b[39;00m \u001b[38;5;28mlen\u001b[39m(test_sentences) \u001b[38;5;241m==\u001b[39m \u001b[38;5;28mlen\u001b[39m(predicted_labels_text)\n",
      "\u001b[1;31mAssertionError\u001b[0m: "
     ]
    }
   ],
   "source": []
  },
  {
   "cell_type": "code",
   "execution_count": null,
   "id": "3fe130bb",
   "metadata": {},
   "outputs": [],
   "source": []
  },
  {
   "cell_type": "code",
   "execution_count": null,
   "id": "143eff0b",
   "metadata": {},
   "outputs": [],
   "source": []
  },
  {
   "cell_type": "code",
   "execution_count": null,
   "id": "ba2d2be6",
   "metadata": {},
   "outputs": [],
   "source": []
  },
  {
   "cell_type": "code",
   "execution_count": null,
   "id": "3c83f3bc",
   "metadata": {},
   "outputs": [],
   "source": []
  },
  {
   "cell_type": "code",
   "execution_count": null,
   "id": "48b7d40c",
   "metadata": {},
   "outputs": [],
   "source": []
  },
  {
   "cell_type": "code",
   "execution_count": null,
   "id": "563795dd",
   "metadata": {},
   "outputs": [],
   "source": []
  }
 ],
 "metadata": {
  "kernelspec": {
   "display_name": "Python 3 (ipykernel)",
   "language": "python",
   "name": "python3"
  },
  "language_info": {
   "codemirror_mode": {
    "name": "ipython",
    "version": 3
   },
   "file_extension": ".py",
   "mimetype": "text/x-python",
   "name": "python",
   "nbconvert_exporter": "python",
   "pygments_lexer": "ipython3",
   "version": "3.9.12"
  }
 },
 "nbformat": 4,
 "nbformat_minor": 5
}
